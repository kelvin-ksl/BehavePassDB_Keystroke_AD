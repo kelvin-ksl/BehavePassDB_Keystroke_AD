{
 "cells": [
  {
   "cell_type": "code",
   "execution_count": 9,
   "metadata": {},
   "outputs": [],
   "source": [
    "import pandas as pd\n",
    "import numpy as np\n",
    "\n",
    "from sklearn.preprocessing import StandardScaler\n",
    "from sklearn.model_selection import ParameterGrid\n",
    "from sklearn.metrics import roc_auc_score, accuracy_score, precision_score, recall_score, f1_score\n",
    "\n",
    "import warnings\n",
    "# Ignorar os warnings\n",
    "warnings.filterwarnings(\"ignore\")\n",
    "\n",
    "import time"
   ]
  },
  {
   "cell_type": "code",
   "execution_count": 10,
   "metadata": {},
   "outputs": [],
   "source": [
    "def create_windowed_dataset(sequencia_original, window_size):\n",
    "    T = len(sequencia_original)\n",
    "    L = window_size\n",
    "\n",
    "    janelas = []\n",
    "\n",
    "    for i in range(T - L + 1):\n",
    "        ith_janela = pd.DataFrame()\n",
    "\n",
    "        for j in range(i+L-1, i-1, -1):\n",
    "            jth_amostra = sequencia_original.iloc[[j]]\n",
    "            jth_amostra.columns = [\n",
    "                f'x_acc{j-i}',\n",
    "                f'y_acc{j-i}',\n",
    "                f'z_acc{j-i}',\n",
    "                f'x_grav{j-i}',\n",
    "                f'y_grav{j-i}',\n",
    "                f'z_grav{j-i}',\n",
    "                f'x_gyro{j-i}',\n",
    "                f'y_gyro{j-i}',\n",
    "                f'z_gyro{j-i}',\n",
    "                f'x_accl{j-i}',\n",
    "                f'y_accl{j-i}',\n",
    "                f'z_accl{j-i}',\n",
    "                f'x_magn{j-i}',\n",
    "                f'y_magn{j-i}',\n",
    "                f'z_magn{j-i}',\n",
    "                'label'\n",
    "            ]\n",
    "            jth_amostra = jth_amostra.reset_index(drop=True)\n",
    "\n",
    "            if j == i+L-1:\n",
    "                label = jth_amostra['label']\n",
    "\n",
    "            jth_amostra = jth_amostra.drop('label', axis=1)\n",
    "            ith_janela[jth_amostra.columns] = jth_amostra\n",
    "\n",
    "        ith_janela['label'] = label\n",
    "\n",
    "        janelas.append(ith_janela)\n",
    "\n",
    "    new_df = pd.concat(janelas)\n",
    "    new_df.index = range(len(new_df.index))\n",
    "\n",
    "    return new_df"
   ]
  },
  {
   "cell_type": "code",
   "execution_count": 11,
   "metadata": {},
   "outputs": [],
   "source": [
    "\n",
    "def process_data(train, windows):\n",
    "    start_process = time.time()\n",
    "    # Salvar o novo dataset com as janelas\n",
    "\n",
    "\n",
    "    train_df = create_windowed_dataset(train, windows)\n",
    "    \n",
    "    # scaler = StandardScaler()\n",
    "\n",
    "    # # Normalização\n",
    "    # cols = train_df.columns\n",
    "    # sc_train = scaler.fit_transform(train_df.values)\n",
    "    # sc_test = scaler.transform(test_df.values)\n",
    "    # sc_validacao = scaler.transform(validacao_df.values)\n",
    "\n",
    "    # # Salvar a normalização\n",
    "    # train_df = pd.DataFrame(sc_train, columns=cols)\n",
    "    # test_df = pd.DataFrame(sc_test, columns=cols)\n",
    "    # validacao_df = pd.DataFrame(sc_validacao, columns=cols)\n",
    "\n",
    "    # # Teste\n",
    "    # n = round(len(train_df) * 0.30)\n",
    "    # add = train_df.tail(n)  # 30%\n",
    "    # # Apagar as linhas do df de treino que foram utilizadas no teste\n",
    "    # train_df.drop(add.index, inplace=True)\n",
    "    \n",
    "    # test_df = test_df.append(add, ignore_index=True)\n",
    "    \n",
    "\n",
    "    # #Validação\n",
    "    # n = round(len(train_df) * 0.20)\n",
    "    # add2 = train_df.tail(n) #20%\n",
    "\n",
    "    # #TODO: nao adicionar o teste no conjunto de validacao, pegar de um usuario de fora\n",
    "    # val_df = pd.concat([add2, validacao_df], ignore_index=True)\n",
    "    # # Apaga as linhas do df de treino que foram utilizadas no teste\n",
    "    # train_df.drop(add2.index, inplace=True)\n",
    "    \n",
    "    #TODO: FIM\n",
    "\n",
    "    \n",
    "    end_process = time.time()\n",
    "    print(\"Tempo de execução do processamento: \", end_process - start_process)\n",
    "    time_windows.append(end_process - start_process) \n",
    "\n",
    "    return train_df\n",
    "\n"
   ]
  },
  {
   "cell_type": "code",
   "execution_count": 12,
   "metadata": {},
   "outputs": [],
   "source": [
    "import os\n",
    "output_dir = 'testes'  # Nome da pasta de destino\n",
    "\n",
    "# Verifica se o diretório de destino existe, caso contrário, cria-o\n",
    "if not os.path.exists(output_dir):\n",
    "    os.makedirs(output_dir)"
   ]
  },
  {
   "cell_type": "code",
   "execution_count": 13,
   "metadata": {},
   "outputs": [
    {
     "name": "stdout",
     "output_type": "stream",
     "text": [
      "Usuário: enrolment_01, tamanho de janela: 3\n",
      "Tempo de execução do processamento:  1.5355968475341797\n",
      "Usuário: enrolment_02, tamanho de janela: 3\n",
      "Tempo de execução do processamento:  5.212859869003296\n",
      "Usuário: enrolment_03, tamanho de janela: 3\n",
      "Tempo de execução do processamento:  2.4212913513183594\n",
      "Usuário: enrolment_04, tamanho de janela: 3\n",
      "Tempo de execução do processamento:  2.2936084270477295\n",
      "Usuário: enrolment_05, tamanho de janela: 3\n",
      "Tempo de execução do processamento:  1.867447853088379\n",
      "Usuário: enrolment_06, tamanho de janela: 3\n",
      "Tempo de execução do processamento:  2.47928786277771\n",
      "Usuário: enrolment_07, tamanho de janela: 3\n",
      "Tempo de execução do processamento:  5.143961429595947\n",
      "Usuário: enrolment_08, tamanho de janela: 3\n",
      "Tempo de execução do processamento:  2.0159661769866943\n",
      "Usuário: enrolment_09, tamanho de janela: 3\n",
      "Tempo de execução do processamento:  2.397937297821045\n",
      "Usuário: enrolment_10, tamanho de janela: 3\n",
      "Tempo de execução do processamento:  2.7168149948120117\n",
      "Usuário: enrolment_11, tamanho de janela: 3\n",
      "Tempo de execução do processamento:  4.069298028945923\n",
      "Usuário: enrolment_12, tamanho de janela: 3\n",
      "Tempo de execução do processamento:  4.3417394161224365\n",
      "Usuário: enrolment_13, tamanho de janela: 3\n",
      "Tempo de execução do processamento:  1.9773759841918945\n",
      "Usuário: enrolment_14, tamanho de janela: 3\n",
      "Tempo de execução do processamento:  1.9449973106384277\n",
      "Usuário: enrolment_15, tamanho de janela: 3\n",
      "Tempo de execução do processamento:  3.136629343032837\n",
      "Usuário: enrolment_16, tamanho de janela: 3\n",
      "Tempo de execução do processamento:  4.362187623977661\n",
      "Usuário: enrolment_17, tamanho de janela: 3\n",
      "Tempo de execução do processamento:  3.91919207572937\n",
      "Usuário: enrolment_18, tamanho de janela: 3\n",
      "Tempo de execução do processamento:  2.664663791656494\n",
      "Usuário: enrolment_19, tamanho de janela: 3\n",
      "Tempo de execução do processamento:  1.2282109260559082\n",
      "Usuário: enrolment_20, tamanho de janela: 3\n",
      "Tempo de execução do processamento:  4.593252420425415\n"
     ]
    }
   ],
   "source": [
    "# # Lista de usuarios\n",
    "users = [\n",
    "    'enrolment_01',\n",
    "    'enrolment_02',\n",
    "    'enrolment_03',\n",
    "    'enrolment_04',\n",
    "    'enrolment_05',\n",
    "    'enrolment_06',\n",
    "    'enrolment_07',\n",
    "    'enrolment_08',\n",
    "    'enrolment_09',\n",
    "    'enrolment_10',\n",
    "    'enrolment_11',\n",
    "    'enrolment_12',\n",
    "    'enrolment_13',\n",
    "    'enrolment_14',\n",
    "    'enrolment_15',\n",
    "    'enrolment_16',\n",
    "    'enrolment_17',\n",
    "    'enrolment_18',\n",
    "    'enrolment_19',\n",
    "    'enrolment_20'\n",
    "]\n",
    "\n",
    "# Lista de tamanhos de janela\n",
    "window_size_list = [3]\n",
    "time_windows = []\n",
    "for user in users:\n",
    "\n",
    "    genuine = pd.read_csv('Comparacoes/Milisegundos/' + user + '/random/user.csv')\n",
    "    #impostor = pd.read_csv('Comparacoes/Milisegundos/' + user + '/random/verification2.csv')\n",
    "# validacao = pd.read_csv('user_validacao.csv')\n",
    "\n",
    "# # Preencher valores faltantes com 0\n",
    "    genuine = genuine.fillna(0)\n",
    "    #impostor = impostor.fillna(0)\n",
    "# validacao = validacao.fillna(0)\n",
    "\n",
    "# # Acrescentar Labels\n",
    "    genuine['label'] = 0\n",
    "    #impostor['label'] = 1\n",
    "# validacao['label'] = 1\n",
    "\n",
    "# # Remover colunas ascii_code_touch e timestamp\n",
    "    genuine = genuine.drop(['ascii_code', 'timestamp'], axis=1)\n",
    "    #impostor = impostor.drop(['ascii_code', 'timestamp'], axis=1)\n",
    "# validacao = validacao.drop(['ascii_code_touch', 'timestamp'], axis=1)\n",
    "\n",
    "    for window_size in window_size_list:\n",
    "        # TODO: salvar esses conjuntos para cada window_size para cada usuario em disco para nao realizar esse processamento a cada execucao\n",
    "\n",
    "        print(f\"Usuário: {user}, tamanho de janela: {window_size}\")\n",
    "\n",
    "        train_df = process_data(genuine, window_size)\n",
    "\n",
    "        # Salvando o dataframe em um arquivo CSV\n",
    "        train_df.to_csv(os.path.join(output_dir, f'{user}_train_data_window_{window_size}.csv'), index=False)\n",
    "        #val_df.to_csv(os.path.join(output_dir, f'val_data_window_{window_size}.csv'), index=False)\n",
    "        #test_df.to_csv(os.path.join(output_dir, f'{user}_test_data_window_{window_size}.csv'), index=False)\n"
   ]
  },
  {
   "cell_type": "code",
   "execution_count": 14,
   "metadata": {},
   "outputs": [
    {
     "data": {
      "text/plain": [
       "(592, 16)"
      ]
     },
     "execution_count": 14,
     "metadata": {},
     "output_type": "execute_result"
    }
   ],
   "source": [
    "genuine.shape"
   ]
  },
  {
   "cell_type": "code",
   "execution_count": 15,
   "metadata": {},
   "outputs": [
    {
     "name": "stdout",
     "output_type": "stream",
     "text": [
      "3.0161159515380858\n"
     ]
    }
   ],
   "source": [
    "print(np.mean(time_windows))"
   ]
  },
  {
   "cell_type": "code",
   "execution_count": 16,
   "metadata": {},
   "outputs": [],
   "source": [
    "# df = pd.read_csv(\"testes/enrolment_04_train_data_window_2.csv\")\n",
    "\n",
    "# df"
   ]
  },
  {
   "attachments": {},
   "cell_type": "markdown",
   "metadata": {},
   "source": [
    "janela 2 = 2.009864628314972\n",
    "janela 3 = 4.52887316942215\n",
    "janela 4 = 4.005613911151886\n",
    "janela 5 = 7.212210655212402\n",
    "janela 6 = 6.485075569152832\n",
    "janela 7 = 33.1065772652626"
   ]
  }
 ],
 "metadata": {
  "kernelspec": {
   "display_name": "Python 3 (ipykernel)",
   "language": "python",
   "name": "python3"
  },
  "language_info": {
   "codemirror_mode": {
    "name": "ipython",
    "version": 3
   },
   "file_extension": ".py",
   "mimetype": "text/x-python",
   "name": "python",
   "nbconvert_exporter": "python",
   "pygments_lexer": "ipython3",
   "version": "3.9.12"
  }
 },
 "nbformat": 4,
 "nbformat_minor": 4
}
